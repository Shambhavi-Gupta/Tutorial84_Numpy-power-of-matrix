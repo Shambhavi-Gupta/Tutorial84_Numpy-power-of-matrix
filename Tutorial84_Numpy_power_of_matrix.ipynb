{
  "nbformat": 4,
  "nbformat_minor": 0,
  "metadata": {
    "colab": {
      "name": "Tutorial84_Numpy-power-of-matrix.ipynb",
      "provenance": [],
      "authorship_tag": "ABX9TyOg7BolrTu2PmDOiL7YByup",
      "include_colab_link": true
    },
    "kernelspec": {
      "name": "python3",
      "display_name": "Python 3"
    },
    "language_info": {
      "name": "python"
    }
  },
  "cells": [
    {
      "cell_type": "markdown",
      "metadata": {
        "id": "view-in-github",
        "colab_type": "text"
      },
      "source": [
        "<a href=\"https://colab.research.google.com/github/Shambhavi-Gupta/Tutorial84_Numpy-power-of-matrix/blob/main/Tutorial84_Numpy_power_of_matrix.ipynb\" target=\"_parent\"><img src=\"https://colab.research.google.com/assets/colab-badge.svg\" alt=\"Open In Colab\"/></a>"
      ]
    },
    {
      "cell_type": "code",
      "metadata": {
        "id": "wb5hjn9MNV6o"
      },
      "source": [
        "import numpy as np\n",
        "a = np.array([[3,4],[1,2]])\n",
        "#print(a)\n",
        "b = np.linalg.matrix_power(a, -2)\n",
        "print(b)"
      ],
      "execution_count": null,
      "outputs": []
    }
  ]
}